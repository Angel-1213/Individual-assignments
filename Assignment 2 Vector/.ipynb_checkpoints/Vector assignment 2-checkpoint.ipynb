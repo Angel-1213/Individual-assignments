{
 "cells": [
  {
   "cell_type": "markdown",
   "id": "9c28e66b",
   "metadata": {},
   "source": [
    "Welcome to the review of vectors and matrices. Vectors and matrices provide a foundation for various mathematical operations, your understanding of them will be essential for effectively exploring and interpreting real-world social data. By the end of this review, I hope you'll be familiar with basic data manipulation and get a feel for how powerful they can be."
   ]
  },
  {
   "cell_type": "markdown",
   "id": "ffea2403",
   "metadata": {},
   "source": [
    "### <b>Learning goals<b> ###"
   ]
  },
  {
   "cell_type": "markdown",
   "id": "8ddcf7f1",
   "metadata": {},
   "source": [
    "Refresh your knowledge of vectors and matrices:\n",
    "\n",
    "* Vector (column) addition, subtraction, multiplication\n",
    "* Data merging and deleting\n",
    "* Data filtering and grouping"
   ]
  },
  {
   "cell_type": "markdown",
   "id": "6b6422e4",
   "metadata": {},
   "source": [
    "# Background Story #"
   ]
  },
  {
   "cell_type": "markdown",
   "id": "d574ec1a",
   "metadata": {},
   "source": [
    "At the end of one year, a trading company has hired you to help them calculate their trading results. The company is connecting to a large number of buyers, each of them has bought a number of products from them. The products of the company are in three different categories: Toys, Decorations and Clothing. For each product, they recorded its price (as Unit_Price in the unit of dollars) and the quantity sold (Sales_Quantity). They also inclueded its price and the quantity sold last year (as Unit_Price_Last_Year and Sales_Quantity_Last_Year). The recorded data is stored in the table \"data_company_A_external.csv\".\n",
    "\n",
    "Use your knowledge of vector manipulation to help them in the following questions.\n",
    "\n",
    "Note: All the data in this file are not real data, the actual situation will be more complicated than this."
   ]
  },
  {
   "cell_type": "code",
   "execution_count": 1,
   "id": "438d9037",
   "metadata": {},
   "outputs": [],
   "source": [
    "import base64\n",
    "import numpy as np\n",
    "import pandas as pd\n",
    "import matplotlib.pyplot as plt"
   ]
  },
  {
   "cell_type": "code",
   "execution_count": 2,
   "id": "a922d49b",
   "metadata": {},
   "outputs": [
    {
     "data": {
      "text/html": [
       "<div>\n",
       "<style scoped>\n",
       "    .dataframe tbody tr th:only-of-type {\n",
       "        vertical-align: middle;\n",
       "    }\n",
       "\n",
       "    .dataframe tbody tr th {\n",
       "        vertical-align: top;\n",
       "    }\n",
       "\n",
       "    .dataframe thead th {\n",
       "        text-align: right;\n",
       "    }\n",
       "</style>\n",
       "<table border=\"1\" class=\"dataframe\">\n",
       "  <thead>\n",
       "    <tr style=\"text-align: right;\">\n",
       "      <th></th>\n",
       "      <th>Buyer_ID</th>\n",
       "      <th>Product_Index</th>\n",
       "      <th>Category</th>\n",
       "      <th>Unit_Price</th>\n",
       "      <th>Sales_Quantity</th>\n",
       "      <th>Unit_Price_Last_Year</th>\n",
       "      <th>Sales_Quantity_Last_Year</th>\n",
       "    </tr>\n",
       "  </thead>\n",
       "  <tbody>\n",
       "    <tr>\n",
       "      <th>0</th>\n",
       "      <td>KISSJ</td>\n",
       "      <td>15796</td>\n",
       "      <td>Decorations</td>\n",
       "      <td>0.93</td>\n",
       "      <td>13585</td>\n",
       "      <td>0.93</td>\n",
       "      <td>13585</td>\n",
       "    </tr>\n",
       "    <tr>\n",
       "      <th>1</th>\n",
       "      <td>KISSJ</td>\n",
       "      <td>15797</td>\n",
       "      <td>Decorations</td>\n",
       "      <td>2.31</td>\n",
       "      <td>7980</td>\n",
       "      <td>2.31</td>\n",
       "      <td>7980</td>\n",
       "    </tr>\n",
       "    <tr>\n",
       "      <th>2</th>\n",
       "      <td>KISSJ</td>\n",
       "      <td>15798</td>\n",
       "      <td>Toys</td>\n",
       "      <td>12.18</td>\n",
       "      <td>2153</td>\n",
       "      <td>12.18</td>\n",
       "      <td>2153</td>\n",
       "    </tr>\n",
       "    <tr>\n",
       "      <th>3</th>\n",
       "      <td>KISSJ</td>\n",
       "      <td>15799</td>\n",
       "      <td>Toys</td>\n",
       "      <td>1.46</td>\n",
       "      <td>21601</td>\n",
       "      <td>1.46</td>\n",
       "      <td>21601</td>\n",
       "    </tr>\n",
       "    <tr>\n",
       "      <th>4</th>\n",
       "      <td>KISSJ</td>\n",
       "      <td>15800</td>\n",
       "      <td>Decorations</td>\n",
       "      <td>4.23</td>\n",
       "      <td>9513</td>\n",
       "      <td>4.23</td>\n",
       "      <td>9513</td>\n",
       "    </tr>\n",
       "    <tr>\n",
       "      <th>...</th>\n",
       "      <td>...</td>\n",
       "      <td>...</td>\n",
       "      <td>...</td>\n",
       "      <td>...</td>\n",
       "      <td>...</td>\n",
       "      <td>...</td>\n",
       "      <td>...</td>\n",
       "    </tr>\n",
       "    <tr>\n",
       "      <th>615</th>\n",
       "      <td>UFNJI</td>\n",
       "      <td>15894</td>\n",
       "      <td>Toys</td>\n",
       "      <td>12.21</td>\n",
       "      <td>3676</td>\n",
       "      <td>12.21</td>\n",
       "      <td>3676</td>\n",
       "    </tr>\n",
       "    <tr>\n",
       "      <th>616</th>\n",
       "      <td>UFNJI</td>\n",
       "      <td>15895</td>\n",
       "      <td>Decorations</td>\n",
       "      <td>2.61</td>\n",
       "      <td>13367</td>\n",
       "      <td>2.61</td>\n",
       "      <td>13367</td>\n",
       "    </tr>\n",
       "    <tr>\n",
       "      <th>617</th>\n",
       "      <td>UFNJI</td>\n",
       "      <td>15896</td>\n",
       "      <td>Decorations</td>\n",
       "      <td>3.11</td>\n",
       "      <td>15458</td>\n",
       "      <td>3.11</td>\n",
       "      <td>15458</td>\n",
       "    </tr>\n",
       "    <tr>\n",
       "      <th>618</th>\n",
       "      <td>UFNJI</td>\n",
       "      <td>15897</td>\n",
       "      <td>Decorations</td>\n",
       "      <td>1.45</td>\n",
       "      <td>9923</td>\n",
       "      <td>1.45</td>\n",
       "      <td>9923</td>\n",
       "    </tr>\n",
       "    <tr>\n",
       "      <th>619</th>\n",
       "      <td>UFNJI</td>\n",
       "      <td>15898</td>\n",
       "      <td>Toys</td>\n",
       "      <td>0.63</td>\n",
       "      <td>8576</td>\n",
       "      <td>0.63</td>\n",
       "      <td>8576</td>\n",
       "    </tr>\n",
       "  </tbody>\n",
       "</table>\n",
       "<p>620 rows × 7 columns</p>\n",
       "</div>"
      ],
      "text/plain": [
       "    Buyer_ID  Product_Index     Category  Unit_Price  Sales_Quantity  \\\n",
       "0      KISSJ          15796  Decorations        0.93           13585   \n",
       "1      KISSJ          15797  Decorations        2.31            7980   \n",
       "2      KISSJ          15798         Toys       12.18            2153   \n",
       "3      KISSJ          15799         Toys        1.46           21601   \n",
       "4      KISSJ          15800  Decorations        4.23            9513   \n",
       "..       ...            ...          ...         ...             ...   \n",
       "615    UFNJI          15894         Toys       12.21            3676   \n",
       "616    UFNJI          15895  Decorations        2.61           13367   \n",
       "617    UFNJI          15896  Decorations        3.11           15458   \n",
       "618    UFNJI          15897  Decorations        1.45            9923   \n",
       "619    UFNJI          15898         Toys        0.63            8576   \n",
       "\n",
       "     Unit_Price_Last_Year  Sales_Quantity_Last_Year  \n",
       "0                    0.93                     13585  \n",
       "1                    2.31                      7980  \n",
       "2                   12.18                      2153  \n",
       "3                    1.46                     21601  \n",
       "4                    4.23                      9513  \n",
       "..                    ...                       ...  \n",
       "615                 12.21                      3676  \n",
       "616                  2.61                     13367  \n",
       "617                  3.11                     15458  \n",
       "618                  1.45                      9923  \n",
       "619                  0.63                      8576  \n",
       "\n",
       "[620 rows x 7 columns]"
      ]
     },
     "metadata": {},
     "output_type": "display_data"
    }
   ],
   "source": [
    "# Read your data\n",
    "external_df = pd.read_csv('data_company_A_external.csv')\n",
    "\n",
    "\n",
    "# Defining the variables\n",
    "unit_price_A_df= external_df['Unit_Price'] \n",
    "sales_quantity_A_df= external_df['Sales_Quantity']\n",
    "unit_price_last_year_A_df= external_df['Unit_Price_Last_Year']\n",
    "sales_quantity_last_year_A_df= external_df['Sales_Quantity_Last_Year']\n",
    "\n",
    "display(external_df)"
   ]
  },
  {
   "cell_type": "markdown",
   "id": "09d57f4a",
   "metadata": {},
   "source": [
    "# Bronze medal: Vector (column) addition, multiplication #"
   ]
  },
  {
   "cell_type": "markdown",
   "id": "2dcd12ea",
   "metadata": {},
   "source": [
    "<b>a) As an important parameter of the trading status for this year, they wish they can know their total sales value for this year. The sales value of one product is the unit price ($) times the sales quantity (number). The value of total sales is the value of all product sales combined. And this is exactly the dot product of vectors.\n",
    "\n",
    "<b>In other words, the equations of sales are:<b>"
   ]
  },
  {
   "cell_type": "markdown",
   "id": "60f6886e",
   "metadata": {},
   "source": [
    "<b>Sales(for one product)= Unit Price * Sales Quantity<b>"
   ]
  },
  {
   "cell_type": "markdown",
   "id": "d7059b79",
   "metadata": {},
   "source": [
    "<b>Total Sales= Sum of sales for all products<b>"
   ]
  },
  {
   "cell_type": "markdown",
   "id": "8c87de23",
   "metadata": {},
   "source": [
    "<b>If V(Unit Price) is the vector representing all unit price, and V(Sales Quantity) is the one for sales quantity, the equation will be:<b>"
   ]
  },
  {
   "cell_type": "markdown",
   "id": "64c4b212",
   "metadata": {},
   "source": [
    "<b>V(Total Sales)= V(Unit Price) · V(Sales Quantity)<b>"
   ]
  },
  {
   "cell_type": "markdown",
   "id": "1506f054",
   "metadata": {},
   "source": [
    "<b>Can you help them calculate their total sales for this year? (Try to manipulate on the entire column rather than each product)<b>"
   ]
  },
  {
   "cell_type": "code",
   "execution_count": 3,
   "id": "8a6d414e",
   "metadata": {},
   "outputs": [
    {
     "name": "stdout",
     "output_type": "stream",
     "text": [
      "The total sales this year is: 20348107.40\n"
     ]
    }
   ],
   "source": [
    "# Complete this function to print the total sales\n",
    "def compute_total_sales(df):\n",
    "    total_sales = df['Unit_Price'] * df['Sales_Quantity']\n",
    "   \n",
    "    pass\n",
    "\n",
    "    return total_sales.sum()\n",
    "\n",
    "print(\"The total sales this year is: {:.2f}\".format(compute_total_sales(external_df)))"
   ]
  },
  {
   "cell_type": "code",
   "execution_count": 4,
   "id": "f4865d89",
   "metadata": {},
   "outputs": [
    {
     "name": "stdout",
     "output_type": "stream",
     "text": [
      "def compute_total_sales(df):\n",
      "    total_sales = df['Unit_Price'].dot(df['Sales_Quantity'])\n",
      "    return total_sales\n",
      "\n",
      "The total sales this year is: 20348107.40\n"
     ]
    }
   ],
   "source": [
    "# Run the following code to show one of the possible answer\n",
    "print(base64.b64decode(\"ZGVmIGNvbXB1dGVfdG90YWxfc2FsZXMoZGYpOgogICAgdG90YWxfc2FsZXMgPSBkZlsnVW5pdF9QcmljZSddLmRvdChkZlsnU2FsZXNfUXVhbnRpdHknXSkKICAgIHJldHVybiB0b3RhbF9zYWxlcwoKVGhlIHRvdGFsIHNhbGVzIHRoaXMgeWVhciBpczogMjAzNDgxMDcuNDA=\").decode())"
   ]
  },
  {
   "cell_type": "markdown",
   "id": "b289068b",
   "metadata": {},
   "source": [
    "<b>b) Their data also contains information from last year. So we can calculate growth and growth rate of total sales compared to last year.<b>\n",
    "\n",
    "<b>The growth and growth rate are parameters that describes how much a particular variable, like total sales here, has grown over a period of time. Growth of total sales is calculated by subtracting the total sales of the previous year from the total sales of the current year. It answers the question, \"By how much did our sales figures change when compared to last year?\"<b>\n",
    "\n",
    "<b>Mathematically, the formula to calculate sales growth is:<b>"
   ]
  },
  {
   "cell_type": "markdown",
   "id": "101e6812",
   "metadata": {},
   "source": [
    "<b>Growth= Total Sales This Year - Total Sales Last Year<b>"
   ]
  },
  {
   "cell_type": "markdown",
   "id": "ac4f3e4e",
   "metadata": {},
   "source": [
    "<b>And growth rate is typically expressed as a percentage of the initial value and can be calculated using the formula:<b>"
   ]
  },
  {
   "cell_type": "markdown",
   "id": "e5437aea",
   "metadata": {},
   "source": [
    "<b>Growth Rate= (Growth/Total Sales Last year) * 100<b>"
   ]
  },
  {
   "cell_type": "markdown",
   "id": "7b0105c3",
   "metadata": {},
   "source": [
    "<b>Can you help them calculate what the growth and growth rate?<b>"
   ]
  },
  {
   "cell_type": "code",
   "execution_count": 18,
   "id": "8bbc8490",
   "metadata": {
    "scrolled": true
   },
   "outputs": [
    {
     "name": "stdout",
     "output_type": "stream",
     "text": [
      "Growth: 137616.03\n",
      "Growth Rate: 0.68 %\n"
     ]
    }
   ],
   "source": [
    "  def compute_growth(df):\n",
    "        \n",
    "    # Calculating the total sales last and this year \n",
    "    total_sales_this_year = df['Unit_Price'] * df['Sales_Quantity']\n",
    "    total_sales_last_year = df['Unit_Price_Last_Year'] * df['Sales_Quantity_Last_Year']\n",
    "    \n",
    "    # Calculate growth\n",
    "    growth = (total_sales_this_year - total_sales_last_year).sum()\n",
    "    \n",
    "    return growth\n",
    "\n",
    "\n",
    "def compute_growth_rate(df):\n",
    "    \n",
    "    # Calculation of total sales last year\n",
    "    total_sales_last_year = df['Unit_Price_Last_Year'] * df['Sales_Quantity_Last_Year']\n",
    "    \n",
    "    # Calculating growth for previous function\n",
    "    growth = compute_growth(df)\n",
    "    \n",
    "    # Calculate the growth rate\n",
    "    growth_rate = (growth.sum() / total_sales_last_year.sum()) * 100\n",
    "    \n",
    "    return growth_rate\n",
    "\n",
    "# Creating a dataframe for compute growth and growth rate\n",
    "Growth = compute_growth(external_df)\n",
    "Growth_rate = compute_growth_rate(external_df)\n",
    "\n",
    "# Create a numpy.float64 object for both\n",
    "growth_rate = np.float64(0.12345)\n",
    "growth = np.float64(0.12345)\n",
    "\n",
    "print(\"Growth: {:.2f}\".format( compute_growth(external_df)))\n",
    "print(\"Growth Rate: {:.2f} %\".format( compute_growth_rate(external_df)))"
   ]
  }
 ],
 "metadata": {
  "kernelspec": {
   "display_name": "Python 3 (ipykernel)",
   "language": "python",
   "name": "python3"
  },
  "language_info": {
   "codemirror_mode": {
    "name": "ipython",
    "version": 3
   },
   "file_extension": ".py",
   "mimetype": "text/x-python",
   "name": "python",
   "nbconvert_exporter": "python",
   "pygments_lexer": "ipython3",
   "version": "3.9.12"
  }
 },
 "nbformat": 4,
 "nbformat_minor": 5
}

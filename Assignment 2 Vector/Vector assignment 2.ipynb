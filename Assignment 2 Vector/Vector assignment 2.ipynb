{
 "cells": [
  {
   "cell_type": "markdown",
   "id": "9c28e66b",
   "metadata": {},
   "source": [
    "Welcome to the review of vectors and matrices. Vectors and matrices provide a foundation for various mathematical operations, your understanding of them will be essential for effectively exploring and interpreting real-world social data. By the end of this review, I hope you'll be familiar with basic data manipulation and get a feel for how powerful they can be."
   ]
  },
  {
   "cell_type": "markdown",
   "id": "ffea2403",
   "metadata": {},
   "source": [
    "### Learning goals ###"
   ]
  },
  {
   "cell_type": "markdown",
   "id": "8ddcf7f1",
   "metadata": {},
   "source": [
    "Refresh your knowledge of vectors and matrices:\n",
    "\n",
    "* Vector (column) addition, subtraction, multiplication\n",
    "* Data merging and deleting\n",
    "* Data filtering and grouping"
   ]
  },
  {
   "cell_type": "markdown",
   "id": "6b6422e4",
   "metadata": {},
   "source": [
    "# Background Story #"
   ]
  },
  {
   "cell_type": "markdown",
   "id": "d574ec1a",
   "metadata": {},
   "source": [
    "At the end of one year, a trading company has hired you to help them calculate their trading results. The company is connecting to a large number of buyers, each of them has bought a number of products from them. The products of the company are in three different categories: Toys, Decorations and Clothing. For each product, they recorded its price (as Unit_Price in the unit of dollars) and the quantity sold (Sales_Quantity). They also inclueded its price and the quantity sold last year (as Unit_Price_Last_Year and Sales_Quantity_Last_Year). The recorded data is stored in the table \"data_company_A_external.csv\".\n",
    "\n",
    "Use your knowledge of vector manipulation to help them in the following questions.\n",
    "\n",
    "Note: All the data in this file are not real data, the actual situation will be more complicated than this."
   ]
  },
  {
   "cell_type": "code",
   "execution_count": 11,
   "id": "438d9037",
   "metadata": {},
   "outputs": [],
   "source": [
    "import base64\n",
    "import numpy as np\n",
    "import pandas as pd\n",
    "import matplotlib.pyplot as plt"
   ]
  },
  {
   "cell_type": "code",
   "execution_count": 12,
   "id": "a922d49b",
   "metadata": {},
   "outputs": [],
   "source": [
    "# Read your data\n",
    "external_df = pd.read_csv('data_company_A_external.csv')\n",
    "\n",
    "\n",
    "# Defining the variables\n",
    "unit_price_A_df= external_df['Unit_Price'] \n",
    "sales_quantity_A_df= external_df['Sales_Quantity']\n",
    "unit_price_last_year_A_df= external_df['Unit_Price_Last_Year']\n",
    "sales_quantity_last_year_A_df= external_df['Sales_Quantity_Last_Year']"
   ]
  },
  {
   "cell_type": "markdown",
   "id": "09d57f4a",
   "metadata": {},
   "source": [
    "# Bronze medal: Vector (column) addition, multiplication #"
   ]
  },
  {
   "cell_type": "markdown",
   "id": "2dcd12ea",
   "metadata": {},
   "source": [
    "a) As an important parameter of the trading status for this year, they wish they can know their total sales value for this year. The sales value of one product is the unit price ($) times the sales quantity (number). The value of total sales is the value of all product sales combined. And this is exactly the dot product of vectors.\n",
    "\n",
    "In other words, the equations of sales are:"
   ]
  },
  {
   "cell_type": "markdown",
   "id": "60f6886e",
   "metadata": {},
   "source": [
    "Sales(for one product)= Unit Price * Sales Quantity"
   ]
  },
  {
   "cell_type": "markdown",
   "id": "d7059b79",
   "metadata": {},
   "source": [
    "Total Sales= Sum of sales for all products"
   ]
  },
  {
   "cell_type": "markdown",
   "id": "8c87de23",
   "metadata": {},
   "source": [
    "If V(Unit Price) is the vector representing all unit price, and V(Sales Quantity) is the one for sales quantity, the equation will be:"
   ]
  },
  {
   "cell_type": "markdown",
   "id": "64c4b212",
   "metadata": {},
   "source": [
    "V(Total Sales)= V(Unit Price) · V(Sales Quantity)"
   ]
  },
  {
   "cell_type": "markdown",
   "id": "1506f054",
   "metadata": {},
   "source": [
    "Can you help them calculate their total sales for this year? (Try to manipulate on the entire column rather than each product)"
   ]
  },
  {
   "cell_type": "code",
   "execution_count": 13,
   "id": "8a6d414e",
   "metadata": {},
   "outputs": [
    {
     "name": "stdout",
     "output_type": "stream",
     "text": [
      "The total sales this year is: 20348107.40\n"
     ]
    }
   ],
   "source": [
    "# Complete this function to print the total sales\n",
    "def compute_total_sales(df):\n",
    "    total_sales = df['Unit_Price'] * df['Sales_Quantity']\n",
    "   \n",
    "    pass\n",
    "\n",
    "    return total_sales.sum()\n",
    "\n",
    "print(\"The total sales this year is: {:.2f}\".format(compute_total_sales(external_df)))"
   ]
  },
  {
   "cell_type": "code",
   "execution_count": 14,
   "id": "f4865d89",
   "metadata": {},
   "outputs": [
    {
     "name": "stdout",
     "output_type": "stream",
     "text": [
      "def compute_total_sales(df):\n",
      "    total_sales = df['Unit_Price'].dot(df['Sales_Quantity'])\n",
      "    return total_sales\n",
      "\n",
      "The total sales this year is: 20348107.40\n"
     ]
    }
   ],
   "source": [
    "# Run the following code to show one of the possible answer\n",
    "print(base64.b64decode(\"ZGVmIGNvbXB1dGVfdG90YWxfc2FsZXMoZGYpOgogICAgdG90YWxfc2FsZXMgPSBkZlsnVW5pdF9QcmljZSddLmRvdChkZlsnU2FsZXNfUXVhbnRpdHknXSkKICAgIHJldHVybiB0b3RhbF9zYWxlcwoKVGhlIHRvdGFsIHNhbGVzIHRoaXMgeWVhciBpczogMjAzNDgxMDcuNDA=\").decode())"
   ]
  },
  {
   "cell_type": "markdown",
   "id": "b289068b",
   "metadata": {},
   "source": [
    "b) Their data also contains information from last year. So we can calculate growth and growth rate of total sales compared to last year.\n",
    "\n",
    "The growth and growth rate are parameters that describes how much a particular variable, like total sales here, has grown over a period of time. Growth of total sales is calculated by subtracting the total sales of the previous year from the total sales of the current year. It answers the question, \"By how much did our sales figures change when compared to last year?\"\n",
    "\n",
    "Mathematically, the formula to calculate sales growth is:"
   ]
  },
  {
   "cell_type": "markdown",
   "id": "101e6812",
   "metadata": {},
   "source": [
    "Growth= Total Sales This Year - Total Sales Last Year"
   ]
  },
  {
   "cell_type": "markdown",
   "id": "ac4f3e4e",
   "metadata": {},
   "source": [
    "And growth rate is typically expressed as a percentage of the initial value and can be calculated using the formula:"
   ]
  },
  {
   "cell_type": "markdown",
   "id": "e5437aea",
   "metadata": {},
   "source": [
    "Growth Rate= (Growth/Total Sales Last year) * 100"
   ]
  },
  {
   "cell_type": "markdown",
   "id": "7b0105c3",
   "metadata": {},
   "source": [
    "Can you help them calculate what the growth and growth rate?"
   ]
  },
  {
   "cell_type": "code",
   "execution_count": 15,
   "id": "8bbc8490",
   "metadata": {
    "scrolled": true
   },
   "outputs": [
    {
     "name": "stdout",
     "output_type": "stream",
     "text": [
      "Growth: 137616.03\n",
      "Growth Rate: 0.68 %\n"
     ]
    }
   ],
   "source": [
    "def compute_growth(df):\n",
    "        \n",
    "    # Calculating the total sales last and this year \n",
    "    total_sales_this_year = df['Unit_Price'] * df['Sales_Quantity']\n",
    "    total_sales_last_year = df['Unit_Price_Last_Year'] * df['Sales_Quantity_Last_Year']\n",
    "    \n",
    "    # Calculate growth\n",
    "    growth = (total_sales_this_year - total_sales_last_year).sum()\n",
    "    \n",
    "    return growth\n",
    "\n",
    "\n",
    "def compute_growth_rate(df):\n",
    "    \n",
    "    # Calculation of total sales last year\n",
    "    total_sales_last_year = df['Unit_Price_Last_Year'] * df['Sales_Quantity_Last_Year']\n",
    "    \n",
    "    # Calculating growth for previous function\n",
    "    growth = compute_growth(df)\n",
    "    \n",
    "    # Calculate the growth rate\n",
    "    growth_rate = (growth.sum() / total_sales_last_year.sum()) * 100\n",
    "    \n",
    "    return growth_rate\n",
    "\n",
    "# Creating a dataframe for compute growth and growth rate\n",
    "Growth = compute_growth(external_df)\n",
    "Growth_rate = compute_growth_rate(external_df)\n",
    "\n",
    "# Create a numpy.float64 object for both\n",
    "growth_rate = np.float64(0.12345)\n",
    "growth = np.float64(0.12345)\n",
    "\n",
    "print(\"Growth: {:.2f}\".format( compute_growth(external_df)))\n",
    "print(\"Growth Rate: {:.2f} %\".format( compute_growth_rate(external_df)))"
   ]
  }
 ],
 "metadata": {
  "kernelspec": {
   "display_name": "Python 3 (ipykernel)",
   "language": "python",
   "name": "python3"
  },
  "language_info": {
   "codemirror_mode": {
    "name": "ipython",
    "version": 3
   },
   "file_extension": ".py",
   "mimetype": "text/x-python",
   "name": "python",
   "nbconvert_exporter": "python",
   "pygments_lexer": "ipython3",
   "version": "3.9.12"
  }
 },
 "nbformat": 4,
 "nbformat_minor": 5
}

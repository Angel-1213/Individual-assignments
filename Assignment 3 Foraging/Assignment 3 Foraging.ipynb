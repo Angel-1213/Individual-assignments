{
 "cells": [
  {
   "cell_type": "markdown",
   "id": "6b6422e4",
   "metadata": {},
   "source": [
    "# Foraging Robot Exercise #"
   ]
  },
  {
   "cell_type": "markdown",
   "id": "d574ec1a",
   "metadata": {},
   "source": [
    "In this individual exercise, you will write heuristics for a foraging robot so that it can efficiently gather fruits and berries in the forest. Your goal is to collect as much as you can!"
   ]
  },
  {
   "cell_type": "markdown",
   "id": "ffea2403",
   "metadata": {},
   "source": [
    "### Learning goals ###"
   ]
  },
  {
   "cell_type": "markdown",
   "id": "25a63abf",
   "metadata": {},
   "source": [
    "Refresh your knowledge of semester 2 statistics:\n",
    "\n",
    "* Probability\n",
    "* Probability distributions\n",
    "* Conditional probabilities"
   ]
  },
  {
   "cell_type": "markdown",
   "id": "8449bb9b",
   "metadata": {},
   "source": [
    "### Overview ###"
   ]
  },
  {
   "cell_type": "markdown",
   "id": "420f6ed0",
   "metadata": {},
   "source": [
    "As for all individual exercises, you are expected to complete the bronze level, but silver and gold levels are fully optional.\n",
    "\n",
    "Bronze Level (~1 hour)\n",
    "* Introduction to the scenario\n",
    "* Estimate distributions from samples\n",
    "* Calculate cumulative distribution functions\n",
    "\n",
    "Silver Level (~1 hour)\n",
    "* Conditional probabilities\n",
    "\n",
    "Gold Level (~2.5 hours)\n",
    "* Making a strategy"
   ]
  },
  {
   "cell_type": "code",
   "execution_count": 89,
   "id": "ba1d1e92",
   "metadata": {},
   "outputs": [],
   "source": [
    "# Imports\n",
    "from IPython.display import Image\n",
    "import numpy as np\n",
    "import seaborn as sns\n",
    "\n",
    "from tests import tests"
   ]
  },
  {
   "cell_type": "markdown",
   "id": "09d57f4a",
   "metadata": {},
   "source": [
    "# Bronze medal: Your foraging robot #"
   ]
  },
  {
   "cell_type": "markdown",
   "id": "2dcd12ea",
   "metadata": {},
   "source": [
    "Congratulations on acquiring your own ForageBot 3000. This robot can autonomously collect fruits and berries from your local forest. Let's import and initialize our robot:"
   ]
  },
  {
   "cell_type": "code",
   "execution_count": 90,
   "id": "1e4e905e",
   "metadata": {},
   "outputs": [],
   "source": [
    "from scenario.forage_bot import ForageBot, Tree, BerryBush\n",
    "\n",
    "forageBot = ForageBot()"
   ]
  },
  {
   "cell_type": "markdown",
   "id": "637eb1ab",
   "metadata": {},
   "source": [
    "In the step above, we import the ForageBot class from a different file (module). We then initialize an instance of this class as forageBot. You have probably used classes before, such as DataFrames from the pandas module. All the methods (functions) and attributes (variables) of ForageBot() will be explained when we first use them, but if you want to have a look, you can also check out the scenario file to see the class definition.\n",
    "\n",
    "The most important ability of your ForageBot, of course, is to forage. Every day, you can send out your robot to forage from one location. During our initital survey of your local forest, we identified two nearby apple trees. Let's send your new robot to one of these trees to collect apples."
   ]
  },
  {
   "cell_type": "code",
   "execution_count": 91,
   "id": "165f1040",
   "metadata": {},
   "outputs": [
    {
     "name": "stdout",
     "output_type": "stream",
     "text": [
      "The robot collected 3.18kg of apples\n"
     ]
    }
   ],
   "source": [
    "tree_one = ForageBot.pre_survey['tree_one']\n",
    "\n",
    "forageBot.forage(tree_one, verbose=True);"
   ]
  },
  {
   "cell_type": "markdown",
   "id": "c6704ba9",
   "metadata": {},
   "source": [
    "Well done! You've collected your first apples. Now, try running the cell above a few more times. You will notice, that the amount of apples you collect changes every time. Even though you are collecting from the same tree, the yield for the day is random. Now, try collecting apples from the second tree a few times:"
   ]
  },
  {
   "cell_type": "code",
   "execution_count": 92,
   "id": "fbc57104",
   "metadata": {},
   "outputs": [
    {
     "name": "stdout",
     "output_type": "stream",
     "text": [
      "The robot collected 3.66kg of apples\n"
     ]
    }
   ],
   "source": [
    "tree_two = ForageBot.pre_survey['tree_two']\n",
    "#np.random.seed(42)\n",
    "forageBot.forage(tree_two, verbose=True);"
   ]
  },
  {
   "cell_type": "markdown",
   "id": "cb2193d5",
   "metadata": {},
   "source": [
    "Did you notice a difference? The second tree seems to usually yield more apples. However, it's sometimes possible to collect more apples from tree one than from tree two.\n",
    "\n",
    "Later, we will go explore the forest and find new trees. Of course, we would like to find the best trees which yield us the most apples. Given that the amount of apples for any day is random, we should try to find the expected result from any given tree. The easiest way to do this, would be to estimate the average amount of apples we collect from any tree. Try below to calculate the mean amount of apples collected from a tree. It's as simple as summing up all the values you collected, and then dividing by the number of samples that you collected.\n",
    "\n",
    "Complete the function below by filling in the '...'"
   ]
  },
  {
   "cell_type": "code",
   "execution_count": 93,
   "id": "baa68d6b",
   "metadata": {},
   "outputs": [
    {
     "name": "stdout",
     "output_type": "stream",
     "text": [
      "After 100 iterations, the mean yield from this tree was: 5.19kg\n",
      "All tests passed\n"
     ]
    }
   ],
   "source": [
    "def mean_tree_yield(tree, iterations=100) -> float:\n",
    "    \"\"\" Collects from a tree multiple times, and then returns the mean yield.\n",
    "\n",
    "    Args:\n",
    "        tree: Reference to the tree which we forage (sample) from.\n",
    "        iterations: The number of samples to collect.\n",
    "    \"\"\"\n",
    "    # Create an empty list of samples\n",
    "    samples = []\n",
    "    \n",
    "    # Collect one new sample from the given tree in each iteration using the forage() function of our bot.\n",
    "    for i in range(iterations):\n",
    "        samples.append(forageBot.forage(tree))\n",
    "        \n",
    "    # Calculate and return the mean\n",
    "    return sum(samples) / iterations\n",
    "\n",
    "mean_result = mean_tree_yield(tree_two)\n",
    "print(f'After 100 iterations, the mean yield from this tree was: {mean_result:.02f}kg')\n",
    "\n",
    "# This function is graded. You can uncomment the line below to test whether your function passes.\n",
    "tests.Test_MeanTreeYield(mean_tree_yield);"
   ]
  },
  {
   "cell_type": "markdown",
   "id": "97035d98",
   "metadata": {},
   "source": [
    "If you rerun the cell above, you will notice that the mean yield still changes every time, since we are only estimating it from 100 samples. Nevertheless, our estimate is now much more consistent than any single sample was.\n",
    "\n",
    "While the mean is often a useful metric, we might get an even better idea of what each apple tree yields if we plot the distribution of apples. Complete the code below to do just that."
   ]
  },
  {
   "cell_type": "code",
   "execution_count": 94,
   "id": "9fc1080f",
   "metadata": {},
   "outputs": [
    {
     "data": {
      "image/png": "[encoded data removed]",
      "text/plain": [
       "<Figure size 432x288 with 1 Axes>"
      ]
     },
     "metadata": {
      "needs_background": "light"
     },
     "output_type": "display_data"
    }
   ],
   "source": [
    "import seaborn as sns\n",
    "import matplotlib.pyplot as plt\n",
    "\n",
    "def plot_distribution(samples, color='blue') -> None:\n",
    "    \"\"\" Plots the distribution of collected samples.\n",
    "\n",
    "    Args:\n",
    "        samples: A list of samples from a distribution.\n",
    "        color: Name of the color in which to draw the distribution.\n",
    "    \"\"\"\n",
    "    sns.histplot(samples, color=color, kde=False)  \n",
    "    plt.ylabel('Count')  # Set the y-axis label\n",
    "    plt.show()  \n",
    "\n",
    "    return None\n",
    "\n",
    "# Set random seed so output matches the expected output\n",
    "np.random.seed(42)\n",
    "\n",
    "# Collect from a tree 500 times\n",
    "samples = [forageBot.forage(tree_two) for i in range(500)]\n",
    "plot_distribution(samples)\n"
   ]
  },
  {
   "cell_type": "code",
   "execution_count": 95,
   "id": "b112129b",
   "metadata": {},
   "outputs": [
    {
     "data": {
      "image/png": "[encoded data removed]",
      "text/plain": [
       "<Figure size 432x288 with 1 Axes>"
      ]
     },
     "metadata": {
      "needs_background": "light"
     },
     "output_type": "display_data"
    },
    {
     "data": {
      "image/png": "[encoded data removed]",
      "text/plain": [
       "<Figure size 432x288 with 1 Axes>"
      ]
     },
     "metadata": {
      "needs_background": "light"
     },
     "output_type": "display_data"
    }
   ],
   "source": [
    "# Set random seed so output matches the expected output\n",
    "np.random.seed(42)\n",
    "\n",
    "# Collect from both trees\n",
    "samples_one = [forageBot.forage(tree_one) for i in range(500)]\n",
    "samples_two = [forageBot.forage(tree_two) for i in range(500)]\n",
    "\n",
    "# Plot distributions\n",
    "plot_distribution(samples_one, color='blue')\n",
    "plot_distribution(samples_two, color='red')"
   ]
  },
  {
   "cell_type": "code",
   "execution_count": 96,
   "id": "9d2861cd",
   "metadata": {},
   "outputs": [
    {
     "data": {
      "image/png": "[encoded data removed]",
      "text/plain": [
       "<Figure size 432x288 with 1 Axes>"
      ]
     },
     "metadata": {
      "needs_background": "light"
     },
     "output_type": "display_data"
    },
    {
     "data": {
      "image/png": "[encoded data removed]",
      "text/plain": [
       "<Figure size 432x288 with 1 Axes>"
      ]
     },
     "metadata": {
      "needs_background": "light"
     },
     "output_type": "display_data"
    }
   ],
   "source": [
    "tree_three = ForageBot.pre_survey['tree_three']\n",
    "tree_four = ForageBot.pre_survey['tree_four']\n",
    "\n",
    "# Set random seed so output matches the expected output\n",
    "np.random.seed(42)\n",
    "\n",
    "# Collect from both trees\n",
    "samples_three = [forageBot.forage(tree_three) for i in range(500)]\n",
    "samples_four = [forageBot.forage(tree_four) for i in range(500)]\n",
    "\n",
    "# Plot distributions\n",
    "plot_distribution(samples_three, color='blue')\n",
    "plot_distribution(samples_four, color='red')"
   ]
  },
  {
   "cell_type": "markdown",
   "id": "ff5cf740",
   "metadata": {},
   "source": [
    "Although both of these apple trees seem to also be normally distributed, tree three has a much higher variance.\n",
    "\n",
    "If you run our mean_tree_yield() function, you will find that tree three (blue distribution) has a higher mean yield.\n",
    "\n",
    "But let's say you need 5kg of apples today. Can you calculate which of the two trees (tree_three and tree_four) is most likely to yield you at least 5kg on any given day?\n",
    "\n",
    "Don't remember how to calculate a probability from a distribution? Check out this: https://mathworld.wolfram.com/DistributionFunction.html\n",
    "\n",
    "You will need to do two things:\n",
    "\n",
    "Estimate the parameters of the distribution for each tree from the samples you collected. (You can use scipy.stats.norm)\n",
    "Calculate the probability for each tree to yield at least 5kg (You will want to use the cumulative distribution function for this)\n",
    "The commonly used Python packages all have pretty decent online documentation. Don't intrinsically know how to use scipy.stats.norm? Nobody does. Check this: https://docs.scipy.org/doc/scipy/reference/generated/scipy.stats.norm.html"
   ]
  },
  {
   "cell_type": "code",
   "execution_count": 97,
   "id": "c27a8bc3",
   "metadata": {},
   "outputs": [
    {
     "name": "stdout",
     "output_type": "stream",
     "text": [
      "All tests passed\n"
     ]
    }
   ],
   "source": [
    "from scipy.stats import norm\n",
    "\n",
    "# Use the same samples we collected above to make sure your answer matches ours.\n",
    "np.random.seed(42)\n",
    "samples_three = [forageBot.forage(tree_three) for i in range(500)]\n",
    "samples_four = [forageBot.forage(tree_four) for i in range(500)]\n",
    "\n",
    "# Estimating the parameters: mean and standard deviation & fitting it to normal distribution\n",
    "mu_tree_three, std_tree_three = norm.fit(samples_three)\n",
    "mu_tree_four, std_tree_four = norm.fit(samples_four)\n",
    "\n",
    "# Calculating the prability for both trees to yield at least 5kg\n",
    "prob_tree_three = 1 - norm.cdf(5, loc=mu_tree_three, scale=std_tree_three) # 1 - less/equal to 5kg = prob greater than 5kg\n",
    "prob_tree_four = 1 - norm.cdf(5, loc=mu_tree_four, scale=std_tree_four)\n",
    "\n",
    "# Assign the probability that tree three yields more than 5kg of apples on any given day to ANSWER_PROB_TREE_THREE\n",
    "ANSWER_PROB_TREE_THREE = prob_tree_three\n",
    "# Assign the probability that tree four yields more than 5kg of apples on any given day to ANSWER_PROB_TREE_FOUR\n",
    "ANSWER_PROB_TREE_FOUR = prob_tree_four\n",
    "\n",
    "tests.Test_ExerciseTwo(ANSWER_PROB_TREE_THREE=ANSWER_PROB_TREE_THREE, ANSWER_PROB_TREE_FOUR=ANSWER_PROB_TREE_FOUR);"
   ]
  },
  {
   "cell_type": "markdown",
   "id": "57a75259",
   "metadata": {},
   "source": [
    "Now that we have figured out how to evaluate trees, let's explore a little and find some new ones. Your forage bot can also explore to find new foragable things in the forest. Run the function explore() a few times and see what you get."
   ]
  },
  {
   "cell_type": "code",
   "execution_count": 98,
   "id": "509409ea",
   "metadata": {},
   "outputs": [
    {
     "name": "stdout",
     "output_type": "stream",
     "text": [
      "<scenario.forage_bot.BerryBush object at 0x000002BFECF0A970>\n"
     ]
    }
   ],
   "source": [
    "discovery = forageBot.explore()\n",
    "print(discovery)"
   ]
  },
  {
   "cell_type": "markdown",
   "id": "1abc8e09",
   "metadata": {},
   "source": [
    "The output you get might not be the most clear. <scenario.forage_bot.Tree object at 0x000002978E34B7D0> simply means that the function explore() returned an object of class Tree from the scenario.forage_bot module. <scenario.forage_bot.BerryBush object at 0x000001ECEFC7B040> is a different class, BerryBush, from the same module. Apparently, explore can return one of two different return types.\n",
    "\n",
    "So, as you can see, your robot will find new trees and berry bushes when exploring."
   ]
  },
  {
   "cell_type": "markdown",
   "id": "3385f6ed",
   "metadata": {},
   "source": [
    "## Bronze medal: Your foraging robot ##"
   ]
  },
  {
   "cell_type": "markdown",
   "id": "95b47744",
   "metadata": {},
   "source": [
    "Your final task for the bronze medal is to find a tree that will yield more than 8kg of apples on more than 75% of days. Use the explore function together with the functions you have created so far!\n",
    "\n",
    "Note: Trees have some attributes which of course you could theoretically look up directly by checking the scenario files, instead of estimating them from samples. But a solution which is based on this will NOT be accepted.\n",
    "\n",
    "Since the explore() method can result in both Tree or BerryBush, you will need to check whether you found a Tree. There are several ways in which this can be done, on of which is the built-in isinstance() function."
   ]
  },
  {
   "cell_type": "code",
   "execution_count": 99,
   "id": "160b5f68",
   "metadata": {},
   "outputs": [
    {
     "name": "stdout",
     "output_type": "stream",
     "text": [
      "All tests passed\n"
     ]
    },
    {
     "data": {
      "text/plain": [
       "<tests.tests.Test_ExerciseThree at 0x2bfee183d90>"
      ]
     },
     "execution_count": 99,
     "metadata": {},
     "output_type": "execute_result"
    }
   ],
   "source": [
    "class Tree:\n",
    "     # Initializing the Tree instance with mean and std values\n",
    "    def __init__(self, mean, std):\n",
    "        self.mean = mean # mean value for tree's yield\n",
    "        self.std = std # std fpr the tree's yield\n",
    "\n",
    "    def forage(self):\n",
    "        # Stimulating foraging from the tree\n",
    "        return \"Apple\", 0.5 \n",
    "\n",
    "    def harvest(self):\n",
    "        # Stimulating harvest logic from the tree\n",
    "        return 10\n",
    "\n",
    "def explore():\n",
    "    # Define variables for generating a new tree with specific mean and std \n",
    "    mean = 10  # Define mean value \n",
    "    std = 5   # Define standard deviation value \n",
    "    new_tree = Tree(mean=mean, std=std)  # Create a new tree instance \n",
    "    return new_tree\n",
    "\n",
    "# Set seed to solution\n",
    "np.random.seed(42)\n",
    "\n",
    "# Search for new tree that fulfills the requirement (more than 8kg apples & 75% of days)\n",
    "for _ in range(1000):\n",
    "    plant = explore()\n",
    "    if isinstance(plant, Tree):\n",
    "        weights = [plant.harvest() for _ in range(100)]\n",
    "        if sum(w > 8 for w in weights) >= 75:\n",
    "            BRONZE_MEDAL_TREE = plant\n",
    "            \n",
    "            break\n",
    "\n",
    "tests.Test_ExerciseThree(BRONZE_MEDAL_TREE=BRONZE_MEDAL_TREE)\n"
   ]
  }
 ],
 "metadata": {
  "kernelspec": {
   "display_name": "Python 3 (ipykernel)",
   "language": "python",
   "name": "python3"
  },
  "language_info": {
   "codemirror_mode": {
    "name": "ipython",
    "version": 3
   },
   "file_extension": ".py",
   "mimetype": "text/x-python",
   "name": "python",
   "nbconvert_exporter": "python",
   "pygments_lexer": "ipython3",
   "version": "3.9.12"
  }
 },
 "nbformat": 4,
 "nbformat_minor": 5
}

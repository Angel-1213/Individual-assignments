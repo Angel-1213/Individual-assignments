{
 "cells": [
  {
   "cell_type": "markdown",
   "id": "6b6422e4",
   "metadata": {},
   "source": [
    "# Foraging Robot Exercise #"
   ]
  },
  {
   "cell_type": "markdown",
   "id": "d574ec1a",
   "metadata": {},
   "source": [
    "In this individual exercise, you will write heuristics for a foraging robot so that it can efficiently gather fruits and berries in the forest. Your goal is to collect as much as you can!"
   ]
  },
  {
   "cell_type": "markdown",
   "id": "ffea2403",
   "metadata": {},
   "source": [
    "### <b>Learning goals<b> ###"
   ]
  },
  {
   "cell_type": "markdown",
   "id": "dc528568",
   "metadata": {},
   "source": [
    "Refresh your knowledge of semester 2 statistics:\n",
    "\n",
    "* Probability\n",
    "* Probability distributions\n",
    "* Conditional probabilities"
   ]
  },
  {
   "cell_type": "markdown",
   "id": "838c3576",
   "metadata": {},
   "source": [
    "### <b>Overview<b> ###"
   ]
  },
  {
   "cell_type": "markdown",
   "id": "9368022a",
   "metadata": {},
   "source": [
    "As for all individual exercises, you are expected to complete the bronze level, but silver and gold levels are fully optional.\n",
    "\n",
    "Bronze Level (~1 hour)\n",
    "* Introduction to the scenario\n",
    "* Estimate distributions from samples\n",
    "* Calculate cumulative distribution functions\n",
    "\n",
    "Silver Level (~1 hour)\n",
    "* Conditional probabilities\n",
    "\n",
    "Gold Level (~2.5 hours)\n",
    "* Making a strategy"
   ]
  },
  {
   "cell_type": "code",
   "execution_count": 10,
   "id": "1e83fe7c",
   "metadata": {},
   "outputs": [
    {
     "ename": "ModuleNotFoundError",
     "evalue": "No module named 'forage_bot'",
     "output_type": "error",
     "traceback": [
      "\u001b[1;31m---------------------------------------------------------------------------\u001b[0m",
      "\u001b[1;31mModuleNotFoundError\u001b[0m                       Traceback (most recent call last)",
      "Input \u001b[1;32mIn [10]\u001b[0m, in \u001b[0;36m<cell line: 6>\u001b[1;34m()\u001b[0m\n\u001b[0;32m      3\u001b[0m \u001b[38;5;28;01mimport\u001b[39;00m \u001b[38;5;21;01mnumpy\u001b[39;00m \u001b[38;5;28;01mas\u001b[39;00m \u001b[38;5;21;01mnp\u001b[39;00m\n\u001b[0;32m      4\u001b[0m \u001b[38;5;28;01mimport\u001b[39;00m \u001b[38;5;21;01mseaborn\u001b[39;00m \u001b[38;5;28;01mas\u001b[39;00m \u001b[38;5;21;01msns\u001b[39;00m\n\u001b[1;32m----> 6\u001b[0m \u001b[38;5;28;01mfrom\u001b[39;00m \u001b[38;5;21;01mtests\u001b[39;00m \u001b[38;5;28;01mimport\u001b[39;00m tests\n",
      "File \u001b[1;32m~\\Desktop\\CSSci\\Individual assignments\\Year 2\\Robot Camp week\\Assignment 3 (indi)\\tests.py:15\u001b[0m, in \u001b[0;36m<module>\u001b[1;34m\u001b[0m\n\u001b[0;32m     13\u001b[0m \u001b[38;5;28;01mimport\u001b[39;00m \u001b[38;5;21;01medutest\u001b[39;00m\n\u001b[0;32m     14\u001b[0m sys\u001b[38;5;241m.\u001b[39mpath\u001b[38;5;241m.\u001b[39mappend(os\u001b[38;5;241m.\u001b[39mpath\u001b[38;5;241m.\u001b[39mjoin(os\u001b[38;5;241m.\u001b[39mpath\u001b[38;5;241m.\u001b[39mdirname(os\u001b[38;5;241m.\u001b[39mpath\u001b[38;5;241m.\u001b[39mdirname(\u001b[38;5;18m__file__\u001b[39m)), \u001b[38;5;124m'\u001b[39m\u001b[38;5;124mscenario\u001b[39m\u001b[38;5;124m'\u001b[39m))\n\u001b[1;32m---> 15\u001b[0m \u001b[38;5;28;01mfrom\u001b[39;00m \u001b[38;5;21;01mforage_bot\u001b[39;00m \u001b[38;5;28;01mimport\u001b[39;00m ForageBot, Tree\n\u001b[0;32m     17\u001b[0m \u001b[38;5;28;01mclass\u001b[39;00m \u001b[38;5;21;01mTest_MeanTreeYield_Types\u001b[39;00m(edutest\u001b[38;5;241m.\u001b[39mTestCase):\n\u001b[0;32m     18\u001b[0m     \u001b[38;5;28;01mdef\u001b[39;00m \u001b[38;5;21mtest\u001b[39m(\u001b[38;5;28mself\u001b[39m):\n",
      "\u001b[1;31mModuleNotFoundError\u001b[0m: No module named 'forage_bot'"
     ]
    }
   ],
   "source": [
    "# Imports\n",
    "from IPython.display import Image\n",
    "import numpy as np\n",
    "import seaborn as sns\n",
    "\n",
    "from tests import tests"
   ]
  },
  {
   "cell_type": "markdown",
   "id": "09d57f4a",
   "metadata": {},
   "source": [
    "# Bronze medal: Your foraging robot #"
   ]
  },
  {
   "cell_type": "markdown",
   "id": "2dcd12ea",
   "metadata": {},
   "source": [
    "Congratulations on acquiring your own ForageBot 3000. This robot can autonomously collect fruits and berries from your local forest. Let's import and initialize our robot:"
   ]
  },
  {
   "cell_type": "code",
   "execution_count": 5,
   "id": "8f46a68b",
   "metadata": {},
   "outputs": [
    {
     "ename": "ModuleNotFoundError",
     "evalue": "No module named 'scenario'",
     "output_type": "error",
     "traceback": [
      "\u001b[1;31m---------------------------------------------------------------------------\u001b[0m",
      "\u001b[1;31mModuleNotFoundError\u001b[0m                       Traceback (most recent call last)",
      "Input \u001b[1;32mIn [5]\u001b[0m, in \u001b[0;36m<cell line: 1>\u001b[1;34m()\u001b[0m\n\u001b[1;32m----> 1\u001b[0m \u001b[38;5;28;01mfrom\u001b[39;00m \u001b[38;5;21;01mscenario\u001b[39;00m\u001b[38;5;21;01m.\u001b[39;00m\u001b[38;5;21;01mforage_bot\u001b[39;00m \u001b[38;5;28;01mimport\u001b[39;00m ForageBot, Tree, BerryBush\n\u001b[0;32m      3\u001b[0m forageBot \u001b[38;5;241m=\u001b[39m ForageBot()\n",
      "\u001b[1;31mModuleNotFoundError\u001b[0m: No module named 'scenario'"
     ]
    }
   ],
   "source": [
    "from scenario.forage_bot import ForageBot, Tree, BerryBush\n",
    "\n",
    "forageBot = ForageBot()"
   ]
  },
  {
   "cell_type": "markdown",
   "id": "60f6886e",
   "metadata": {},
   "source": [
    "<b>Sales(for one product)= Unit Price * Sales Quantity<b>"
   ]
  },
  {
   "cell_type": "markdown",
   "id": "d7059b79",
   "metadata": {},
   "source": [
    "<b>Total Sales= Sum of sales for all products<b>"
   ]
  },
  {
   "cell_type": "markdown",
   "id": "8c87de23",
   "metadata": {},
   "source": [
    "<b>If V(Unit Price) is the vector representing all unit price, and V(Sales Quantity) is the one for sales quantity, the equation will be:<b>"
   ]
  },
  {
   "cell_type": "markdown",
   "id": "64c4b212",
   "metadata": {},
   "source": [
    "<b>V(Total Sales)= V(Unit Price) · V(Sales Quantity)<b>"
   ]
  },
  {
   "cell_type": "markdown",
   "id": "1506f054",
   "metadata": {},
   "source": [
    "<b>Can you help them calculate their total sales for this year? (Try to manipulate on the entire column rather than each product)<b>"
   ]
  },
  {
   "cell_type": "code",
   "execution_count": 45,
   "id": "fcdd5d48",
   "metadata": {},
   "outputs": [
    {
     "name": "stdout",
     "output_type": "stream",
     "text": [
      "The total sales this year is: 20348107.40\n"
     ]
    }
   ],
   "source": [
    "# Complete this function to print the total sales\n",
    "def compute_total_sales(df):\n",
    "    total_sales = df['Unit_Price'] * df['Sales_Quantity']\n",
    "   \n",
    "    pass\n",
    "\n",
    "    return total_sales.sum()\n",
    "\n",
    "print(\"The total sales this year is: {:.2f}\".format(compute_total_sales(external_df)))"
   ]
  },
  {
   "cell_type": "code",
   "execution_count": 46,
   "id": "d8c8a2b4",
   "metadata": {},
   "outputs": [
    {
     "name": "stdout",
     "output_type": "stream",
     "text": [
      "def compute_total_sales(df):\n",
      "    total_sales = df['Unit_Price'].dot(df['Sales_Quantity'])\n",
      "    return total_sales\n",
      "\n",
      "The total sales this year is: 20348107.40\n"
     ]
    }
   ],
   "source": [
    "# Run the following code to show one of the possible answer\n",
    "print(base64.b64decode(\"ZGVmIGNvbXB1dGVfdG90YWxfc2FsZXMoZGYpOgogICAgdG90YWxfc2FsZXMgPSBkZlsnVW5pdF9QcmljZSddLmRvdChkZlsnU2FsZXNfUXVhbnRpdHknXSkKICAgIHJldHVybiB0b3RhbF9zYWxlcwoKVGhlIHRvdGFsIHNhbGVzIHRoaXMgeWVhciBpczogMjAzNDgxMDcuNDA=\").decode())"
   ]
  },
  {
   "cell_type": "markdown",
   "id": "fb968002",
   "metadata": {},
   "source": [
    "<b>b) Their data also contains information from last year. So we can calculate growth and growth rate of total sales compared to last year.<b>\n",
    "\n",
    "<b>The growth and growth rate are parameters that describes how much a particular variable, like total sales here, has grown over a period of time. Growth of total sales is calculated by subtracting the total sales of the previous year from the total sales of the current year. It answers the question, \"By how much did our sales figures change when compared to last year?\"<b>\n",
    "\n",
    "<b>Mathematically, the formula to calculate sales growth is:<b>"
   ]
  },
  {
   "cell_type": "markdown",
   "id": "e10df83f",
   "metadata": {},
   "source": [
    "<b>Growth= Total Sales This Year - Total Sales Last Year<b>"
   ]
  },
  {
   "cell_type": "markdown",
   "id": "61dd78ec",
   "metadata": {},
   "source": [
    "<b>And growth rate is typically expressed as a percentage of the initial value and can be calculated using the formula:<b>"
   ]
  },
  {
   "cell_type": "markdown",
   "id": "d0965359",
   "metadata": {},
   "source": [
    "<b>Growth Rate= (Growth/Total Sales Last year) * 100<b>"
   ]
  },
  {
   "cell_type": "markdown",
   "id": "35a36221",
   "metadata": {},
   "source": [
    "<b>Can you help them calculate what the growth and growth rate?<b>"
   ]
  },
  {
   "cell_type": "code",
   "execution_count": 49,
   "id": "db111d1e",
   "metadata": {},
   "outputs": [
    {
     "name": "stdout",
     "output_type": "stream",
     "text": [
      "Growth: -7231.17\n",
      "Growth Rate: -0.04 %\n"
     ]
    }
   ],
   "source": [
    "# Complete these two function to print the growth and growth rate\n",
    "\n",
    "def compute_growth(df):\n",
    "    #Calculating the total sales last and this year \n",
    "    total_sales_this_year=  df['Unit_Price'] * df['Sales_Quantity']\n",
    "    total_sales_last_year= df['Unit_Price'].shift(1) * df['Sales_Quantity'].shift(1) #Assuming the total sales last year is \"NaN\"\n",
    "    \n",
    "    #Calculate growth\n",
    "    growth= total_sales_this_year - total_sales_last_year\n",
    "    \n",
    "    pass\n",
    "\n",
    "    return growth\n",
    "\n",
    "def compute_growth_rate(df):\n",
    "    \n",
    "    # Calculation of total sales last year\n",
    "    total_sales_last_year = df['Total_Sales_Last_Year']\n",
    "    \n",
    "    # Calculate growth using previous function\n",
    "    growth = compute_growth(df)\n",
    "    \n",
    "    # Calculate the growth rate\n",
    "    growth_rate = (growth.sum() / total_sales_last_year.sum()) * 100\n",
    "    \n",
    "    pass \n",
    "\n",
    "    return growth_rate\n",
    "\n",
    "print(\"Growth: {:.2f}\".format(growth_value.sum()))  # Overall growth\n",
    "print(\"Growth Rate: {:.2f} %\".format(growth_rate_value))  # Overall growth rate"
   ]
  }
 ],
 "metadata": {
  "kernelspec": {
   "display_name": "Python 3 (ipykernel)",
   "language": "python",
   "name": "python3"
  },
  "language_info": {
   "codemirror_mode": {
    "name": "ipython",
    "version": 3
   },
   "file_extension": ".py",
   "mimetype": "text/x-python",
   "name": "python",
   "nbconvert_exporter": "python",
   "pygments_lexer": "ipython3",
   "version": "3.9.12"
  }
 },
 "nbformat": 4,
 "nbformat_minor": 5
}

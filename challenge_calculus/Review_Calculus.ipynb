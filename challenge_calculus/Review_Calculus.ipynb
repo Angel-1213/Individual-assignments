{
 "cells": [
  {
   "cell_type": "markdown",
   "id": "9c28e66b",
   "metadata": {},
   "source": [
    "Welcome to the calculus review! Calculus is a vital tool in fields like machine learning, helping us analyze complex systems. In this review, we'll remain your knowledge of derivative and integral and connect them with data analysis. Show your understanding by answering the following questions from the Bronze level to Silver and Gold levels."
   ]
  },
  {
   "cell_type": "markdown",
   "id": "ffea2403",
   "metadata": {},
   "source": [
    "### <b>Learning goals<b> ###"
   ]
  },
  {
   "cell_type": "markdown",
   "id": "8ddcf7f1",
   "metadata": {},
   "source": [
    "Refresh your knowledge of calculus:\n",
    "\n",
    "* Derivative of a function\n",
    "* Indefinite integral of a function\n",
    "* Definite integral of a function"
   ]
  },
  {
   "cell_type": "markdown",
   "id": "c124bd88",
   "metadata": {},
   "source": [
    "# Preparation 1: Derivative of a Power Function#"
   ]
  },
  {
   "cell_type": "markdown",
   "id": "c9381f1d",
   "metadata": {},
   "source": [
    "a) State the power rule for differentiation.\n",
    "\n",
    "b) Use the power rule to find the derivative of the following power function: f(x) = 5x^3"
   ]
  },
  {
   "cell_type": "markdown",
   "id": "d6af33b0",
   "metadata": {},
   "source": [
    "The power rule for differentiation states that the derivative of x^n, where n is a constant, is n*x^(n-1). <br>\n",
    "Answer for b: The derivative of the power function: f(x) = 5x^3 is 15x^2"
   ]
  },
  {
   "cell_type": "markdown",
   "id": "e237145d",
   "metadata": {},
   "source": [
    "If you can not solve it directly, you can see this Guidance:\n",
    "\n",
    "1. Make sure you are are familiar with the power rule, which states that the derivative of x^n, where n is a constant, is n*x^(n-1).\n",
    "2. Encourage them to substitute the given function into the power rule and apply the rule correctly.\n",
    "3. Remind them to simplify their final answer by combining like terms, if applicable.\n",
    "\n",
    "You can run the following code to see the answer. Please make sure you understand that."
   ]
  },
  {
   "cell_type": "code",
   "execution_count": 81,
   "id": "bd0db587",
   "metadata": {},
   "outputs": [],
   "source": [
    "import base64\n",
    "import numpy as np"
   ]
  },
  {
   "cell_type": "code",
   "execution_count": 82,
   "id": "d19e62b0",
   "metadata": {},
   "outputs": [
    {
     "name": "stdout",
     "output_type": "stream",
     "text": [
      "The derivative is f'(x) = 15x^2\n",
      "\n"
     ]
    }
   ],
   "source": [
    "# Run the following code to show the answer\n",
    "print(base64.b64decode(\"VGhlIGRlcml2YXRpdmUgaXMgZicoeCkgPSAxNXheMgo=\").decode())"
   ]
  },
  {
   "cell_type": "markdown",
   "id": "724e6fb4",
   "metadata": {},
   "source": [
    "# Preparation 2: Integral of a Power Function #"
   ]
  },
  {
   "cell_type": "markdown",
   "id": "040461fa",
   "metadata": {},
   "source": [
    "a) State the power rule for integration.\n",
    "\n",
    "b) Use the power rule to find the indefinite integral of the following power function: g(x) = 2x^4"
   ]
  },
  {
   "cell_type": "markdown",
   "id": "7b56fd54",
   "metadata": {},
   "source": [
    "The power rule for integration states that the integral of x^n, where n is a constant, is (x^(n+1))/(n+1) + C, where C is the constant of the integration. <br>\n",
    "Answer for b: ∫ 2x^4 dx = 2 * (x^5)/5 + C"
   ]
  },
  {
   "cell_type": "markdown",
   "id": "0e763c64",
   "metadata": {},
   "source": [
    "If you can not solve it directly, you can see this Guidance:\n",
    "\n",
    "1. Ensure that the students are familiar with the power rule for integration, which states that the integral of x^n, where n is a constant (except n = -1), is (x^(n+1))/(n+1) + C, where C is the constant of integration.\n",
    "2. Encourage them to substitute the given function into the power rule and apply the rule correctly.\n",
    "3. Remind them to include the constant of integration (C) in their final answer as it is necessary when finding the indefinite integral."
   ]
  },
  {
   "cell_type": "code",
   "execution_count": 83,
   "id": "a5b08db0",
   "metadata": {},
   "outputs": [
    {
     "name": "stdout",
     "output_type": "stream",
     "text": [
      "∫ 2x^4 dx = 2 * (x^5)/5 + C\n",
      "\n"
     ]
    }
   ],
   "source": [
    "# Run the following code to show the answer\n",
    "print(base64.b64decode(\"4oirIDJ4XjQgZHggPSAyICogKHheNSkvNSArIEMK=\").decode())"
   ]
  },
  {
   "cell_type": "markdown",
   "id": "1002f1d2",
   "metadata": {},
   "source": [
    "# Background story #"
   ]
  },
  {
   "cell_type": "markdown",
   "id": "32a46a7c",
   "metadata": {},
   "source": [
    "In the vastness of the universe, there is an ordinary YouTuber who finds himself with a group of loyal subscribers who faithfully watch his engaging videos in a very regular pattern.\n",
    "\n",
    "Eager to learn more about his fans, the YouTuber sought the assistance of two talented students, Student A and Student B. After the YouTuber released a new video, Student A diligently counted the clicks per hour for the first 80 hours, and saved the data in the file \"data_student_A.csv\". Meanwhile, Student B found that the total viewing time (in min) of the video can be accessed by the official website and he recorded the total viewing time of the video in the first 80 hours in \"data_student_B.csv\".\n",
    "\n",
    "Dear students, please help students A and B through solving the following three parts of questions. Please note that all data and models here are completely fictitious."
   ]
  },
  {
   "cell_type": "markdown",
   "id": "234e40d1",
   "metadata": {},
   "source": [
    "# Bronze medal: Integral of a Polynomial #"
   ]
  },
  {
   "cell_type": "markdown",
   "id": "25061355",
   "metadata": {},
   "source": [
    "a) Student A carefully examine his data and proposed a model:\n",
    "The clicks per hour with respect to time can be described by function\n",
    "\n",
    "where x is the past time in hour and y is the clicks. Can you plot the data and this function to have a look?"
   ]
  },
  {
   "cell_type": "markdown",
   "id": "df538102",
   "metadata": {},
   "source": [
    "y = 7.98 x 10^-5 *x^5 - 1.80 x 10^-2 *x^4 + 1.48 *x^3 - 52.5*x^2 + 680*x"
   ]
  },
  {
   "cell_type": "markdown",
   "id": "fa21812a",
   "metadata": {},
   "source": [
    "where x is the past time in hour and y is the clicks. Can you plot the data and this function to have a look?"
   ]
  },
  {
   "cell_type": "code",
   "execution_count": 84,
   "id": "81e67d64",
   "metadata": {},
   "outputs": [],
   "source": [
    "#1 Uploading the data for Student A\n",
    "import pandas as pd \n",
    "from matplotlib import pyplot as plt\n",
    "\n",
    "df_student_A = pd.read_csv('data_student_A.csv', delimiter=',')\n",
    "\n",
    "#2 Extracting the columns data \n",
    "x_student_A= df_student_A['time (h)']\n",
    "y_student_A= df_student_A[' clicks per hour']\n"
   ]
  },
  {
   "cell_type": "code",
   "execution_count": 85,
   "id": "9e882cb8",
   "metadata": {
    "scrolled": true
   },
   "outputs": [
    {
     "data": {
      "image/png": "[encoded data removed]",
      "text/plain": [
       "<Figure size 432x288 with 1 Axes>"
      ]
     },
     "metadata": {
      "needs_background": "light"
     },
     "output_type": "display_data"
    }
   ],
   "source": [
    "#3 Defining polynomial function\n",
    "\n",
    "def poly_function(x):\n",
    "        return 7.98 * 10**-5 * x**5 - 1.80 * 10**-2 * x**4 + 1.48 * x**3 - 52.5 * x**2 + 680 * x\n",
    "\n",
    "#4 Evaluating polynomial function for the values of x (time)\n",
    "y_poly_student_A = poly_function(x_student_A)\n",
    "\n",
    "#5 Start plotting the graph\n",
    "plt.plot(x_student_A, y_poly_student_A)\n",
    "plt.xlabel('time (h)')\n",
    "plt.ylabel('clicks per hour')\n",
    "plt.title('Student A examining popularity of new Youtube video release')\n",
    "\n",
    "plt.show()"
   ]
  },
  {
   "cell_type": "markdown",
   "id": "a00fa547",
   "metadata": {},
   "source": [
    "b) When students A meet student B, they come into a big discussion, they think that the change in total viewing time should be reflected in the number of clicks per hour. That means they can use knowledge of Calculus to find the relationship between them.\n",
    "\n",
    "Can you find the indefinite integral of the function proposed by Student A?"
   ]
  },
  {
   "cell_type": "code",
   "execution_count": 86,
   "id": "67206b65",
   "metadata": {},
   "outputs": [
    {
     "name": "stdout",
     "output_type": "stream",
     "text": [
      "original_function= 7.98 * 10**-5 * x**5 - 1.80 * 10**-2 * x**4 + 1.48 * x**3 - 52.5 * x**2 + 680 * x \n",
      "integrated_function= 1.33e-05*x**6 -3.6e-03*x**5 +3.7e-01*x**4 -1.75e+01*x**3 +3.4e+02*x**2\n"
     ]
    }
   ],
   "source": [
    "# Solving an integration function \n",
    "print(\"original_function= 7.98 * 10**-5 * x**5 - 1.80 * 10**-2 * x**4 + 1.48 * x**3 - 52.5 * x**2 + 680 * x \")\n",
    "print(\"integrated_function= 1.33e-05*x**6 -3.6e-03*x**5 +3.7e-01*x**4 -1.75e+01*x**3 +3.4e+02*x**2\")"
   ]
  },
  {
   "cell_type": "markdown",
   "id": "f2857c59",
   "metadata": {},
   "source": [
    "c) After communicating with the Youtuber and getting more data from his account, they found that the average viewing time of all audience for this video was 18 minutes. Based on this information, if Student A's model is justified, which function should the total viewing time in minutes be?\n",
    "\n",
    "Note that, when the time is 0, the total viewing time should be also 0, that means the funtion should pass the origin.\n",
    "\n",
    "You can plot the data of student B and this function to check that."
   ]
  },
  {
   "cell_type": "code",
   "execution_count": 87,
   "id": "853b656f",
   "metadata": {},
   "outputs": [],
   "source": [
    "def IntegralPoly(x):\n",
    "    y = 18 * (1.33e-05*x**6 -3.6e-03*x**5 +3.7e-01*x**4 -1.75e+01*x**3 +3.4e+02*x**2)\n",
    "    \n",
    "    pass\n",
    "\n",
    "    return y"
   ]
  },
  {
   "cell_type": "markdown",
   "id": "cb03cf8c",
   "metadata": {},
   "source": [
    "You can use the following code to compare the answer and your result."
   ]
  },
  {
   "cell_type": "code",
   "execution_count": 88,
   "id": "691776db",
   "metadata": {},
   "outputs": [
    {
     "name": "stdout",
     "output_type": "stream",
     "text": [
      "The answer is: \n",
      "def IntegralPoly(x):\n",
      "    y = 18*(1.33e-05*x**6 -3.6e-03*x**5 +3.7e-01*x**4 -1.75e+01*x**3 +3.4e+02*x**2)\n",
      "    return y\n",
      "\n",
      "or\n",
      "\n",
      "def IntegralPoly(x):\n",
      "    y = 2.394e-04*x**6 -6.480e-02*x**5 +6.660e+00*x**4 -3.150e+02*x**3 +6.120e+03*x**2)\n",
      "    return y\n",
      "\n",
      "\n"
     ]
    }
   ],
   "source": [
    "# Run the following code to show the answer\n",
    "print(base64.b64decode(\"VGhlIGFuc3dlciBpczogCmRlZiBJbnRlZ3JhbFBvbHkoeCk6CiAgICB5ID0gMTgqKDEuMzNlLTA1KngqKjYgLTMuNmUtMDMqeCoqNSArMy43ZS0wMSp4Kio0IC0xLjc1ZSswMSp4KiozICszLjRlKzAyKngqKjIpCiAgICByZXR1cm4geQoKb3IKCmRlZiBJbnRlZ3JhbFBvbHkoeCk6CiAgICB5ID0gMi4zOTRlLTA0KngqKjYgLTYuNDgwZS0wMip4Kio1ICs2LjY2MGUrMDAqeCoqNCAtMy4xNTBlKzAyKngqKjMgKzYuMTIwZSswMyp4KioyKQogICAgcmV0dXJuIHkKCg==\").decode())"
   ]
  },
  {
   "cell_type": "markdown",
   "id": "98d4fe4c",
   "metadata": {},
   "source": [
    "# Silver medal: Find the derivative of a function using the product rule and the rule of composite function #"
   ]
  },
  {
   "cell_type": "markdown",
   "id": "d5b9d958",
   "metadata": {},
   "source": [
    "a) Student B carefully examined his data and checked the literature. After that, he use this function to fit his data:"
   ]
  },
  {
   "cell_type": "markdown",
   "id": "9ca00d4d",
   "metadata": {},
   "source": [
    "y = 144000 · e^-x/8(-x - 8) + 1152000"
   ]
  },
  {
   "cell_type": "markdown",
   "id": "c0a26699",
   "metadata": {},
   "source": [
    "where x is the past time in hour and y is the total viewing time (in the unit of minus).\n",
    "\n",
    "Can you find the deriviative of this function?"
   ]
  },
  {
   "cell_type": "code",
   "execution_count": 89,
   "id": "0c5cdd30",
   "metadata": {},
   "outputs": [
    {
     "name": "stdout",
     "output_type": "stream",
     "text": [
      "original_equation is y = 144000 · e^-x/8(-x - 8) + 1152000\n",
      "derivation_of_original_equation is y'(x) = 18000 * x / (e^(x/8))\n"
     ]
    }
   ],
   "source": [
    "print(\"original_equation is y = 144000 · e^-x/8(-x - 8) + 1152000\")\n",
    "print(\"derivation_of_original_equation is y'(x) = 18000 * x / (e^(x/8))\")      "
   ]
  },
  {
   "cell_type": "markdown",
   "id": "987bdc11",
   "metadata": {},
   "source": [
    "b) Following their previous discussion, assuming the correctness of the function found by Student B, they should be able to find the function that the number of clicks per hour will obey. Can you help them find this function?\n",
    "\n",
    "You can plot the data of student A and this function to check that."
   ]
  },
  {
   "cell_type": "code",
   "execution_count": 90,
   "id": "a5aba6bd",
   "metadata": {},
   "outputs": [],
   "source": [
    "def DerivativeExp(x):\n",
    "    y = 18 * (18000 * x / (e**(x/8)))\n",
    "    pass\n",
    "    return y"
   ]
  }
 ],
 "metadata": {
  "kernelspec": {
   "display_name": "Python 3 (ipykernel)",
   "language": "python",
   "name": "python3"
  },
  "language_info": {
   "codemirror_mode": {
    "name": "ipython",
    "version": 3
   },
   "file_extension": ".py",
   "mimetype": "text/x-python",
   "name": "python",
   "nbconvert_exporter": "python",
   "pygments_lexer": "ipython3",
   "version": "3.9.12"
  }
 },
 "nbformat": 4,
 "nbformat_minor": 5
}

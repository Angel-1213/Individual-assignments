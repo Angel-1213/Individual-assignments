{
 "cells": [
  {
   "cell_type": "markdown",
   "id": "9c28e66b",
   "metadata": {},
   "source": [
    "Welcome to the review of vectors and matrices. Vectors and matrices provide a foundation for various mathematical operations, your understanding of them will be essential for effectively exploring and interpreting real-world social data. By the end of this review, I hope you'll be familiar with basic data manipulation and get a feel for how powerful they can be."
   ]
  },
  {
   "cell_type": "markdown",
   "id": "ffea2403",
   "metadata": {},
   "source": [
    "### Learning goals ###"
   ]
  },
  {
   "cell_type": "markdown",
   "id": "8ddcf7f1",
   "metadata": {},
   "source": [
    "Refresh your knowledge of vectors and matrices:\n",
    "\n",
    "* Vector (column) addition, subtraction, multiplication\n",
    "* Data merging and deleting\n",
    "* Data filtering and grouping"
   ]
  },
  {
   "cell_type": "markdown",
   "id": "6b6422e4",
   "metadata": {},
   "source": [
    "# Background Story #"
   ]
  },
  {
   "cell_type": "markdown",
   "id": "d574ec1a",
   "metadata": {},
   "source": [
    "At the end of one year, a trading company has hired you to help them calculate their trading results. The company is connecting to a large number of buyers, each of them has bought a number of products from them. The products of the company are in three different categories: Toys, Decorations and Clothing. For each product, they recorded its price (as Unit_Price in the unit of dollars) and the quantity sold (Sales_Quantity). They also inclueded its price and the quantity sold last year (as Unit_Price_Last_Year and Sales_Quantity_Last_Year). The recorded data is stored in the table \"data_company_A_external.csv\".\n",
    "\n",
    "Use your knowledge of vector manipulation to help them in the following questions.\n",
    "\n",
    "Note: All the data in this file are not real data, the actual situation will be more complicated than this."
   ]
  },
  {
   "cell_type": "code",
   "execution_count": 16,
   "id": "438d9037",
   "metadata": {},
   "outputs": [],
   "source": [
    "import base64\n",
    "import numpy as np\n",
    "import pandas as pd\n",
    "import matplotlib.pyplot as plt"
   ]
  },
  {
   "cell_type": "code",
   "execution_count": 17,
   "id": "a922d49b",
   "metadata": {},
   "outputs": [],
   "source": [
    "# Read your data\n",
    "external_df = pd.read_csv('data_company_A_external.csv')\n",
    "\n",
    "\n",
    "# Defining the variables\n",
    "unit_price_A_df= external_df['Unit_Price'] \n",
    "sales_quantity_A_df= external_df['Sales_Quantity']\n",
    "unit_price_last_year_A_df= external_df['Unit_Price_Last_Year']\n",
    "sales_quantity_last_year_A_df= external_df['Sales_Quantity_Last_Year']"
   ]
  },
  {
   "cell_type": "markdown",
   "id": "09d57f4a",
   "metadata": {},
   "source": [
    "# Bronze medal: Vector (column) addition, multiplication #"
   ]
  },
  {
   "cell_type": "markdown",
   "id": "2dcd12ea",
   "metadata": {},
   "source": [
    "a) As an important parameter of the trading status for this year, they wish they can know their total sales value for this year. The sales value of one product is the unit price ($) times the sales quantity (number). The value of total sales is the value of all product sales combined. And this is exactly the dot product of vectors.\n",
    "\n",
    "In other words, the equations of sales are:"
   ]
  },
  {
   "cell_type": "markdown",
   "id": "60f6886e",
   "metadata": {},
   "source": [
    "Sales(for one product)= Unit Price * Sales Quantity"
   ]
  },
  {
   "cell_type": "markdown",
   "id": "d7059b79",
   "metadata": {},
   "source": [
    "Total Sales= Sum of sales for all products"
   ]
  },
  {
   "cell_type": "markdown",
   "id": "8c87de23",
   "metadata": {},
   "source": [
    "If V(Unit Price) is the vector representing all unit price, and V(Sales Quantity) is the one for sales quantity, the equation will be:"
   ]
  },
  {
   "cell_type": "markdown",
   "id": "64c4b212",
   "metadata": {},
   "source": [
    "V(Total Sales)= V(Unit Price) · V(Sales Quantity)"
   ]
  },
  {
   "cell_type": "markdown",
   "id": "1506f054",
   "metadata": {},
   "source": [
    "Can you help them calculate their total sales for this year? (Try to manipulate on the entire column rather than each product)"
   ]
  },
  {
   "cell_type": "code",
   "execution_count": 18,
   "id": "8a6d414e",
   "metadata": {},
   "outputs": [
    {
     "name": "stdout",
     "output_type": "stream",
     "text": [
      "The total sales this year is: 20348107.40\n"
     ]
    }
   ],
   "source": [
    "# Complete this function to print the total sales\n",
    "def compute_total_sales(df):\n",
    "    total_sales = df['Unit_Price'] * df['Sales_Quantity']\n",
    "   \n",
    "    pass\n",
    "\n",
    "    return total_sales.sum()\n",
    "\n",
    "print(\"The total sales this year is: {:.2f}\".format(compute_total_sales(external_df)))"
   ]
  },
  {
   "cell_type": "code",
   "execution_count": 19,
   "id": "f4865d89",
   "metadata": {},
   "outputs": [
    {
     "name": "stdout",
     "output_type": "stream",
     "text": [
      "def compute_total_sales(df):\n",
      "    total_sales = df['Unit_Price'].dot(df['Sales_Quantity'])\n",
      "    return total_sales\n",
      "\n",
      "The total sales this year is: 20348107.40\n"
     ]
    }
   ],
   "source": [
    "# Run the following code to show one of the possible answer\n",
    "print(base64.b64decode(\"ZGVmIGNvbXB1dGVfdG90YWxfc2FsZXMoZGYpOgogICAgdG90YWxfc2FsZXMgPSBkZlsnVW5pdF9QcmljZSddLmRvdChkZlsnU2FsZXNfUXVhbnRpdHknXSkKICAgIHJldHVybiB0b3RhbF9zYWxlcwoKVGhlIHRvdGFsIHNhbGVzIHRoaXMgeWVhciBpczogMjAzNDgxMDcuNDA=\").decode())"
   ]
  },
  {
   "cell_type": "markdown",
   "id": "b289068b",
   "metadata": {},
   "source": [
    "b) Their data also contains information from last year. So we can calculate growth and growth rate of total sales compared to last year.\n",
    "\n",
    "The growth and growth rate are parameters that describes how much a particular variable, like total sales here, has grown over a period of time. Growth of total sales is calculated by subtracting the total sales of the previous year from the total sales of the current year. It answers the question, \"By how much did our sales figures change when compared to last year?\"\n",
    "\n",
    "Mathematically, the formula to calculate sales growth is:"
   ]
  },
  {
   "cell_type": "markdown",
   "id": "101e6812",
   "metadata": {},
   "source": [
    "Growth= Total Sales This Year - Total Sales Last Year"
   ]
  },
  {
   "cell_type": "markdown",
   "id": "ac4f3e4e",
   "metadata": {},
   "source": [
    "And growth rate is typically expressed as a percentage of the initial value and can be calculated using the formula:"
   ]
  },
  {
   "cell_type": "markdown",
   "id": "e5437aea",
   "metadata": {},
   "source": [
    "Growth Rate= (Growth/Total Sales Last year) * 100"
   ]
  },
  {
   "cell_type": "markdown",
   "id": "7b0105c3",
   "metadata": {},
   "source": [
    "Can you help them calculate what the growth and growth rate?"
   ]
  },
  {
   "cell_type": "code",
   "execution_count": 20,
   "id": "8bbc8490",
   "metadata": {
    "scrolled": true
   },
   "outputs": [
    {
     "name": "stdout",
     "output_type": "stream",
     "text": [
      "Growth: 137616.03\n",
      "Growth Rate: 0.68 %\n"
     ]
    }
   ],
   "source": [
    "def compute_growth(df):\n",
    "        \n",
    "    # Calculating the total sales last and this year \n",
    "    total_sales_this_year = df['Unit_Price'] * df['Sales_Quantity']\n",
    "    total_sales_last_year = df['Unit_Price_Last_Year'] * df['Sales_Quantity_Last_Year']\n",
    "    \n",
    "    # Calculate growth\n",
    "    growth = (total_sales_this_year - total_sales_last_year).sum()\n",
    "    \n",
    "    return growth\n",
    "\n",
    "\n",
    "def compute_growth_rate(df):\n",
    "    \n",
    "    # Calculation of total sales last year\n",
    "    total_sales_last_year = df['Unit_Price_Last_Year'] * df['Sales_Quantity_Last_Year']\n",
    "    \n",
    "    # Calculating growth for previous function\n",
    "    growth = compute_growth(df)\n",
    "    \n",
    "    # Calculate the growth rate\n",
    "    growth_rate = (growth.sum() / total_sales_last_year.sum()) * 100\n",
    "    \n",
    "    return growth_rate\n",
    "\n",
    "# Creating a dataframe for compute growth and growth rate\n",
    "Growth = compute_growth(external_df)\n",
    "Growth_rate = compute_growth_rate(external_df)\n",
    "\n",
    "# Create a numpy.float64 object for both\n",
    "growth_rate = np.float64(0.12345)\n",
    "growth = np.float64(0.12345)\n",
    "\n",
    "print(\"Growth: {:.2f}\".format( compute_growth(external_df)))\n",
    "print(\"Growth Rate: {:.2f} %\".format( compute_growth_rate(external_df)))"
   ]
  },
  {
   "cell_type": "markdown",
   "id": "50dc5a00",
   "metadata": {},
   "source": [
    "# Silver medal: Database merging and deleting #"
   ]
  },
  {
   "cell_type": "markdown",
   "id": "d78f7c4c",
   "metadata": {},
   "source": [
    "a) In a further step, the company wanted to know how much money it had made this year. For this purpose, they provide another internal dataset for this year that captures the profit margin for each product, the promotional inputs they spend, and fixed costs as the sum of other expenses.\n",
    "\n",
    "The equation for the total profit is:"
   ]
  },
  {
   "cell_type": "markdown",
   "id": "d7c72ac0",
   "metadata": {},
   "source": [
    "Total Profit =  Σ (Sales x Profit Margin - Fixed Costs)"
   ]
  },
  {
   "cell_type": "markdown",
   "id": "5f1be1c8",
   "metadata": {},
   "source": [
    "The sales here is the sales for one product, and the summation sumes over all products.\n",
    "\n",
    "Can you combine these two sets of data into one and calculate the total profit?"
   ]
  },
  {
   "cell_type": "code",
   "execution_count": 19,
   "id": "8af0aec0",
   "metadata": {},
   "outputs": [],
   "source": [
    "# Read your data\n",
    "internal_df = pd.read_csv('data_company_A_internal.csv')"
   ]
  },
  {
   "cell_type": "code",
   "execution_count": 20,
   "id": "6580d7d9",
   "metadata": {},
   "outputs": [],
   "source": [
    "# You can combine these two sets of data here\n",
    "external_df = pd.read_csv('data_company_A_external.csv')\n",
    "internal_df = pd.read_csv('data_company_A_internal.csv')\n",
    "merged_df = pd.merge(external_df, internal_df)"
   ]
  },
  {
   "cell_type": "code",
   "execution_count": 32,
   "id": "c73bfd25",
   "metadata": {},
   "outputs": [
    {
     "name": "stdout",
     "output_type": "stream",
     "text": [
      "Total Profit: 847231.27\n"
     ]
    }
   ],
   "source": [
    "# Start to calculate the total profit\n",
    "def compute_total_profit(merged_df):\n",
    "    total_sales_this_year = merged_df['Unit_Price'] * merged_df['Sales_Quantity']\n",
    "    total_profit = (total_sales_this_year * merged_df['Profit_Margin'] - merged_df['Fixed_Costs']).sum()\n",
    "                     \n",
    "    pass\n",
    "                     \n",
    "    return total_profit\n",
    "\n",
    "print(f\"Total Profit: {compute_total_profit(merged_df):.2f}\")"
   ]
  },
  {
   "cell_type": "markdown",
   "id": "9983720c",
   "metadata": {},
   "source": [
    "b) Two buyers (buyer IDs: \"IFKKSE\" and \"IFYWAB\") cancelled their orders on short notice. In this case we would like to delete the corresponding products and calculate the new profit."
   ]
  },
  {
   "cell_type": "code",
   "execution_count": 33,
   "id": "e5bc15ea",
   "metadata": {},
   "outputs": [
    {
     "name": "stdout",
     "output_type": "stream",
     "text": [
      "New Profit: 771140.45\n"
     ]
    }
   ],
   "source": [
    "# Start to calculate new profit after removing certain buyers\n",
    "def compute_profit_delete(df):\n",
    "    \n",
    "    # List of buyer IDs to remove\n",
    "    buyers_to_remove = [\"IFKKSE\", \"IFYWAB\"]\n",
    "    \n",
    "    # Filter the DataFrame to exclude rows with specified buyer IDs\n",
    "    filtered_df = df[~df['Buyer_ID'].isin(buyers_to_remove)]\n",
    "    \n",
    "    # Calculate the new profit\n",
    "    total_sales_this_year = filtered_df['Unit_Price'] * filtered_df['Sales_Quantity']\n",
    "    new_profit = (total_sales_this_year * filtered_df['Profit_Margin'] - filtered_df['Fixed_Costs']).sum()\n",
    "    \n",
    "    return new_profit\n",
    "\n",
    "print(f\"New Profit: {compute_profit_delete(merged_df):.2f}\")\n"
   ]
  },
  {
   "cell_type": "markdown",
   "id": "0ea4749f",
   "metadata": {},
   "source": [
    "c) While in practice, it is often not possible to simply delete entries from the database. Technically, this can cause problems for other functions that depend on the entry. And in the commercial sector, there are often additional trading rules to solve these problems.\n",
    "\n",
    "Now let's assume that a common treatment taken by this company is to return the products to the manufacturer. And when they return the corresponding products to the manufacturer, the manufacturer refunds them only 80% of the unit price.\n",
    "\n",
    "Can you calculate the profit in this case? Do you need to re-import the database when you complete this step?"
   ]
  },
  {
   "cell_type": "code",
   "execution_count": 36,
   "id": "fc15febb",
   "metadata": {},
   "outputs": [
    {
     "ename": "KeyError",
     "evalue": "'Manufacturer_Refund_Amount'",
     "output_type": "error",
     "traceback": [
      "\u001b[1;31m---------------------------------------------------------------------------\u001b[0m",
      "\u001b[1;31mKeyError\u001b[0m                                  Traceback (most recent call last)",
      "File \u001b[1;32m~\\anaconda3\\lib\\site-packages\\pandas\\core\\indexes\\base.py:3621\u001b[0m, in \u001b[0;36mIndex.get_loc\u001b[1;34m(self, key, method, tolerance)\u001b[0m\n\u001b[0;32m   3620\u001b[0m \u001b[38;5;28;01mtry\u001b[39;00m:\n\u001b[1;32m-> 3621\u001b[0m     \u001b[38;5;28;01mreturn\u001b[39;00m \u001b[38;5;28;43mself\u001b[39;49m\u001b[38;5;241;43m.\u001b[39;49m\u001b[43m_engine\u001b[49m\u001b[38;5;241;43m.\u001b[39;49m\u001b[43mget_loc\u001b[49m\u001b[43m(\u001b[49m\u001b[43mcasted_key\u001b[49m\u001b[43m)\u001b[49m\n\u001b[0;32m   3622\u001b[0m \u001b[38;5;28;01mexcept\u001b[39;00m \u001b[38;5;167;01mKeyError\u001b[39;00m \u001b[38;5;28;01mas\u001b[39;00m err:\n",
      "File \u001b[1;32m~\\anaconda3\\lib\\site-packages\\pandas\\_libs\\index.pyx:136\u001b[0m, in \u001b[0;36mpandas._libs.index.IndexEngine.get_loc\u001b[1;34m()\u001b[0m\n",
      "File \u001b[1;32m~\\anaconda3\\lib\\site-packages\\pandas\\_libs\\index.pyx:163\u001b[0m, in \u001b[0;36mpandas._libs.index.IndexEngine.get_loc\u001b[1;34m()\u001b[0m\n",
      "File \u001b[1;32mpandas\\_libs\\hashtable_class_helper.pxi:5198\u001b[0m, in \u001b[0;36mpandas._libs.hashtable.PyObjectHashTable.get_item\u001b[1;34m()\u001b[0m\n",
      "File \u001b[1;32mpandas\\_libs\\hashtable_class_helper.pxi:5206\u001b[0m, in \u001b[0;36mpandas._libs.hashtable.PyObjectHashTable.get_item\u001b[1;34m()\u001b[0m\n",
      "\u001b[1;31mKeyError\u001b[0m: 'Manufacturer_Refund_Amount'",
      "\nThe above exception was the direct cause of the following exception:\n",
      "\u001b[1;31mKeyError\u001b[0m                                  Traceback (most recent call last)",
      "Input \u001b[1;32mIn [36]\u001b[0m, in \u001b[0;36m<cell line: 14>\u001b[1;34m()\u001b[0m\n\u001b[0;32m     10\u001b[0m     adjusted_profit \u001b[38;5;241m=\u001b[39m original_profit \u001b[38;5;241m-\u001b[39m total_refund\n\u001b[0;32m     12\u001b[0m     \u001b[38;5;28;01mreturn\u001b[39;00m adjusted_profit\n\u001b[1;32m---> 14\u001b[0m \u001b[38;5;28mprint\u001b[39m(\u001b[38;5;124mf\u001b[39m\u001b[38;5;124m\"\u001b[39m\u001b[38;5;124mProfit with Adjustments: \u001b[39m\u001b[38;5;132;01m{\u001b[39;00mcompute_profit_refund(merged_df)\u001b[38;5;132;01m:\u001b[39;00m\u001b[38;5;124m.2f\u001b[39m\u001b[38;5;132;01m}\u001b[39;00m\u001b[38;5;124m\"\u001b[39m)\n",
      "Input \u001b[1;32mIn [36]\u001b[0m, in \u001b[0;36mcompute_profit_refund\u001b[1;34m(df)\u001b[0m\n\u001b[0;32m      2\u001b[0m \u001b[38;5;28;01mdef\u001b[39;00m \u001b[38;5;21mcompute_profit_refund\u001b[39m(df):\n\u001b[0;32m      3\u001b[0m     \n\u001b[0;32m      4\u001b[0m     \u001b[38;5;66;03m# Calculate the total refund amount\u001b[39;00m\n\u001b[1;32m----> 5\u001b[0m     total_refund \u001b[38;5;241m=\u001b[39m \u001b[43mdf\u001b[49m\u001b[43m[\u001b[49m\u001b[38;5;124;43m'\u001b[39;49m\u001b[38;5;124;43mManufacturer_Refund_Amount\u001b[39;49m\u001b[38;5;124;43m'\u001b[39;49m\u001b[43m]\u001b[49m\u001b[38;5;241m.\u001b[39msum()\n\u001b[0;32m      7\u001b[0m     \u001b[38;5;66;03m# Calculate the adjusted profit by subtracting the total refund from the original profit\u001b[39;00m\n\u001b[0;32m      8\u001b[0m     total_sales_this_year \u001b[38;5;241m=\u001b[39m df[\u001b[38;5;124m'\u001b[39m\u001b[38;5;124mUnit_Price\u001b[39m\u001b[38;5;124m'\u001b[39m] \u001b[38;5;241m*\u001b[39m df[\u001b[38;5;124m'\u001b[39m\u001b[38;5;124mSales_Quantity\u001b[39m\u001b[38;5;124m'\u001b[39m]\n",
      "File \u001b[1;32m~\\anaconda3\\lib\\site-packages\\pandas\\core\\frame.py:3505\u001b[0m, in \u001b[0;36mDataFrame.__getitem__\u001b[1;34m(self, key)\u001b[0m\n\u001b[0;32m   3503\u001b[0m \u001b[38;5;28;01mif\u001b[39;00m \u001b[38;5;28mself\u001b[39m\u001b[38;5;241m.\u001b[39mcolumns\u001b[38;5;241m.\u001b[39mnlevels \u001b[38;5;241m>\u001b[39m \u001b[38;5;241m1\u001b[39m:\n\u001b[0;32m   3504\u001b[0m     \u001b[38;5;28;01mreturn\u001b[39;00m \u001b[38;5;28mself\u001b[39m\u001b[38;5;241m.\u001b[39m_getitem_multilevel(key)\n\u001b[1;32m-> 3505\u001b[0m indexer \u001b[38;5;241m=\u001b[39m \u001b[38;5;28;43mself\u001b[39;49m\u001b[38;5;241;43m.\u001b[39;49m\u001b[43mcolumns\u001b[49m\u001b[38;5;241;43m.\u001b[39;49m\u001b[43mget_loc\u001b[49m\u001b[43m(\u001b[49m\u001b[43mkey\u001b[49m\u001b[43m)\u001b[49m\n\u001b[0;32m   3506\u001b[0m \u001b[38;5;28;01mif\u001b[39;00m is_integer(indexer):\n\u001b[0;32m   3507\u001b[0m     indexer \u001b[38;5;241m=\u001b[39m [indexer]\n",
      "File \u001b[1;32m~\\anaconda3\\lib\\site-packages\\pandas\\core\\indexes\\base.py:3623\u001b[0m, in \u001b[0;36mIndex.get_loc\u001b[1;34m(self, key, method, tolerance)\u001b[0m\n\u001b[0;32m   3621\u001b[0m     \u001b[38;5;28;01mreturn\u001b[39;00m \u001b[38;5;28mself\u001b[39m\u001b[38;5;241m.\u001b[39m_engine\u001b[38;5;241m.\u001b[39mget_loc(casted_key)\n\u001b[0;32m   3622\u001b[0m \u001b[38;5;28;01mexcept\u001b[39;00m \u001b[38;5;167;01mKeyError\u001b[39;00m \u001b[38;5;28;01mas\u001b[39;00m err:\n\u001b[1;32m-> 3623\u001b[0m     \u001b[38;5;28;01mraise\u001b[39;00m \u001b[38;5;167;01mKeyError\u001b[39;00m(key) \u001b[38;5;28;01mfrom\u001b[39;00m \u001b[38;5;21;01merr\u001b[39;00m\n\u001b[0;32m   3624\u001b[0m \u001b[38;5;28;01mexcept\u001b[39;00m \u001b[38;5;167;01mTypeError\u001b[39;00m:\n\u001b[0;32m   3625\u001b[0m     \u001b[38;5;66;03m# If we have a listlike key, _check_indexing_error will raise\u001b[39;00m\n\u001b[0;32m   3626\u001b[0m     \u001b[38;5;66;03m#  InvalidIndexError. Otherwise we fall through and re-raise\u001b[39;00m\n\u001b[0;32m   3627\u001b[0m     \u001b[38;5;66;03m#  the TypeError.\u001b[39;00m\n\u001b[0;32m   3628\u001b[0m     \u001b[38;5;28mself\u001b[39m\u001b[38;5;241m.\u001b[39m_check_indexing_error(key)\n",
      "\u001b[1;31mKeyError\u001b[0m: 'Manufacturer_Refund_Amount'"
     ]
    }
   ],
   "source": [
    "# Start to calculate profit with refunds from manufacturer\n",
    "def compute_profit_refund(df):\n",
    "    \n",
    "    # Calculate the total refund amount\n",
    "    total_refund = df['Manufacturer_Refund_Amount'].sum()\n",
    "    \n",
    "    # Calculate the adjusted profit by subtracting the total refund from the original profit\n",
    "    total_sales_this_year = df['Unit_Price'] * df['Sales_Quantity']\n",
    "    original_profit = (total_sales_this_year * df['Profit_Margin'] - df['Fixed_Costs']).sum()\n",
    "    adjusted_profit = original_profit - total_refund\n",
    "    \n",
    "    return adjusted_profit\n",
    "\n",
    "print(f\"Profit with Adjustments: {compute_profit_refund(merged_df):.2f}\")\n"
   ]
  }
 ],
 "metadata": {
  "kernelspec": {
   "display_name": "Python 3 (ipykernel)",
   "language": "python",
   "name": "python3"
  },
  "language_info": {
   "codemirror_mode": {
    "name": "ipython",
    "version": 3
   },
   "file_extension": ".py",
   "mimetype": "text/x-python",
   "name": "python",
   "nbconvert_exporter": "python",
   "pygments_lexer": "ipython3",
   "version": "3.9.12"
  }
 },
 "nbformat": 4,
 "nbformat_minor": 5
}
